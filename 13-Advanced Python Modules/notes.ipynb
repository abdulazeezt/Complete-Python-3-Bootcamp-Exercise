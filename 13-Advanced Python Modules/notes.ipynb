{
 "cells": [
  {
   "cell_type": "code",
   "execution_count": null,
   "metadata": {},
   "outputs": [],
   "source": []
  },
  {
   "cell_type": "code",
   "execution_count": null,
   "metadata": {},
   "outputs": [],
   "source": []
  },
  {
   "cell_type": "markdown",
   "metadata": {},
   "source": [
    "\n",
    "# zip and unzip files \n",
    "\n",
    "import os\n",
    "os.getcwd()\n",
    "\n",
    "f = open(\"testfile1.txt\",'w+')\n",
    "f2 = open(\"testfile2.txt\",'w+')\n",
    "\n",
    "f.write(\"A new text has been added to the file1\")\n",
    "f2.write(\"A New text has been added to the file2 \\n asdfasdfasdfasdfjasdf asdf;lasdkjfasd flasdjfas  \\n \")\n",
    "\n",
    "f.close()\n",
    "f2.close()\n",
    "\n",
    "import zipfile\n",
    "\n",
    "zipobject = zipfile.ZipFile('comp_file.zip','w')\n",
    "\n",
    "zipobject.write( \"testfile1.txt\" , compress_type=zipfile.ZIP_DEFLATED )\n",
    "zipobject.write( \"testfile2.txt\" , compress_type=zipfile.ZIP_DEFLATED )\n",
    "zipobject.close()\n",
    "\n",
    "zipobject = zipfile.ZipFile('comp_file.zip','r')\n",
    "zipobject.extractall(\"extracted_content\")\n",
    "zipobject.close()\n"
   ]
  }
 ],
 "metadata": {
  "interpreter": {
   "hash": "708e9726cfefdb058dac500d861d58f3238e7c30de202ec5233c4f8b6d763e57"
  },
  "kernelspec": {
   "display_name": "Python 3.8.4 64-bit",
   "language": "python",
   "name": "python3"
  },
  "language_info": {
   "name": "python",
   "version": "3.8.4"
  },
  "orig_nbformat": 4
 },
 "nbformat": 4,
 "nbformat_minor": 2
}
