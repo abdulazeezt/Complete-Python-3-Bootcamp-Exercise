{
 "cells": [
  {
   "cell_type": "markdown",
   "metadata": {},
   "source": [
    "#44 Python Tutorial for Beginners | Decorators\n",
    "    https://www.youtube.com/watch?v=yNzxXZfkLUA\n",
    "\n",
    "#44 Python Tutorial for Beginners | Decorators\n",
    "345,988 views\n",
    "17 Mar 2019\n",
    "\n",
    "Telusko\n",
    "1.52M subscribers\n",
    "Github :- https://github.com/navinreddy20/Python-\n"
   ]
  }
 ],
 "metadata": {
  "interpreter": {
   "hash": "b3ba2566441a7c06988d0923437866b63cedc61552a5af99d1f4fb67d367b25f"
  },
  "kernelspec": {
   "display_name": "Python 3.7.6 64-bit ('base': conda)",
   "name": "python3"
  },
  "language_info": {
   "codemirror_mode": {
    "name": "ipython",
    "version": 3
   },
   "file_extension": ".py",
   "mimetype": "text/x-python",
   "name": "python",
   "nbconvert_exporter": "python",
   "pygments_lexer": "ipython3",
   "version": "3.7.6"
  },
  "orig_nbformat": 4
 },
 "nbformat": 4,
 "nbformat_minor": 2
}
