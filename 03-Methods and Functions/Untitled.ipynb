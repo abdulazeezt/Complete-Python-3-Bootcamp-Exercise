{
 "cells": [
  {
   "cell_type": "code",
   "execution_count": 7,
   "metadata": {},
   "outputs": [
    {
     "name": "stdout",
     "output_type": "stream",
     "text": [
      "(2, 4, 'Hello', 'Hey')\n"
     ]
    }
   ],
   "source": [
    "def testapp(*args):\n",
    "    print(args)\n",
    "\n",
    "#print(args)\n",
    "testapp(2,4,\"Hello\",\"Hey\")"
   ]
  },
  {
   "cell_type": "code",
   "execution_count": 9,
   "metadata": {},
   "outputs": [
    {
     "name": "stdout",
     "output_type": "stream",
     "text": [
      "(4, 100, 'Manipuram')\n"
     ]
    }
   ],
   "source": [
    "testapp(4,100,\"Manipuram\")"
   ]
  },
  {
   "cell_type": "code",
   "execution_count": 5,
   "metadata": {},
   "outputs": [
    {
     "ename": "SyntaxError",
     "evalue": "invalid syntax (<ipython-input-5-6589b30354a0>, line 4)",
     "output_type": "error",
     "traceback": [
      "\u001b[1;36m  File \u001b[1;32m\"<ipython-input-5-6589b30354a0>\"\u001b[1;36m, line \u001b[1;32m4\u001b[0m\n\u001b[1;33m    This function information section.\u001b[0m\n\u001b[1;37m                ^\u001b[0m\n\u001b[1;31mSyntaxError\u001b[0m\u001b[1;31m:\u001b[0m invalid syntax\n"
     ]
    }
   ],
   "source": [
    "def testapplication():\n",
    "    ,,,\n",
    "    \n",
    "    This function information section. \n",
    "    ,,,\n",
    "    \n",
    "    \n",
    "    print(\"Hello world\")\n",
    "    \n",
    "    \n",
    "testapplication()"
   ]
  },
  {
   "cell_type": "code",
   "execution_count": 2,
   "metadata": {},
   "outputs": [],
   "source": [
    "def name_of_function(arg1,arg2):\n",
    "    '''\n",
    "    This is where the function's Document String (docstring) goes\n",
    "    \n",
    "    '''\n",
    "    print(\"Hello\")\n",
    "    \n",
    "    # Do stuff here\n",
    "    # Return desired result"
   ]
  },
  {
   "cell_type": "code",
   "execution_count": 3,
   "metadata": {},
   "outputs": [
    {
     "name": "stdout",
     "output_type": "stream",
     "text": [
      "Hello\n",
      "Help on function name_of_function in module __main__:\n",
      "\n",
      "name_of_function(arg1, arg2)\n",
      "    This is where the function's Document String (docstring) goes\n",
      "\n"
     ]
    }
   ],
   "source": [
    "name_of_function (\"abc\",\"defd\")\n",
    "help(name_of_function)"
   ]
  },
  {
   "cell_type": "code",
   "execution_count": 7,
   "metadata": {},
   "outputs": [
    {
     "data": {
      "text/plain": [
       "False"
      ]
     },
     "execution_count": 7,
     "metadata": {},
     "output_type": "execute_result"
    }
   ],
   "source": [
    "def dog_check(checkingstring):\n",
    "    if 'dog' in checkingstring:\n",
    "        return True\n",
    "    else:\n",
    "        return False\n",
    "\n",
    "dog_check('cat')"
   ]
  },
  {
   "cell_type": "code",
   "execution_count": 3,
   "metadata": {},
   "outputs": [
    {
     "data": {
      "text/plain": [
       "True"
      ]
     },
     "execution_count": 3,
     "metadata": {},
     "output_type": "execute_result"
    }
   ],
   "source": [
    "def even_checker(inputno):\n",
    "    return (inputno % 2) == 0\n",
    "\n",
    "even_checker(40)"
   ]
  },
  {
   "cell_type": "code",
   "execution_count": 6,
   "metadata": {},
   "outputs": [
    {
     "data": {
      "text/plain": [
       "True"
      ]
     },
     "execution_count": 6,
     "metadata": {},
     "output_type": "execute_result"
    }
   ],
   "source": [
    "def evenlist_checker(inputlist):\n",
    "    for i in inputlist:\n",
    "        if (i % 2) == 0 :\n",
    "            return True\n",
    "        else:\n",
    "            pass\n",
    "        \n",
    "        \n",
    "\n",
    "        \n",
    "evenlist_checker([2,4,5,67,5] )"
   ]
  },
  {
   "cell_type": "code",
   "execution_count": 1,
   "metadata": {},
   "outputs": [
    {
     "name": "stdout",
     "output_type": "stream",
     "text": [
      "[3, 1, 4, 2, 6, 5, 7]\n"
     ]
    }
   ],
   "source": [
    "example = [1,2,3,4,5,6,7]\n",
    "from random import shuffle\n",
    "\n",
    "def shufflelist(list1):\n",
    "    shuffle(list1)\n",
    "    print(list1) \n",
    "\n",
    "shufflelist(example)"
   ]
  },
  {
   "cell_type": "code",
   "execution_count": 2,
   "metadata": {},
   "outputs": [],
   "source": [
    "def player_guess():\n",
    "    guess \n",
    "    \n",
    "# initial list\n",
    "mylist=[' ' ,'0',' ' ]\n",
    "\n",
    "# shuffle list \n",
    "def shuffle_list(list1):\n",
    "    shuffle(list1)\n",
    "    return list1\n",
    "\n",
    "\n"
   ]
  },
  {
   "cell_type": "code",
   "execution_count": 3,
   "metadata": {},
   "outputs": [],
   "source": [
    "# user guess\n",
    "def player_guess():\n",
    "    guess =''\n",
    "    while guess not in ['0','1','2']:\n",
    "        guess = input(\"Pick a number:01,1 or 2\")\n",
    "    return int(guess)\n",
    "    \n",
    "    \n",
    "    \n",
    "# check guess\n"
   ]
  },
  {
   "cell_type": "code",
   "execution_count": 4,
   "metadata": {
    "scrolled": true
   },
   "outputs": [
    {
     "name": "stdout",
     "output_type": "stream",
     "text": [
      "Pick a number:01,1 or 23\n",
      "Pick a number:01,1 or 22\n"
     ]
    },
    {
     "data": {
      "text/plain": [
       "2"
      ]
     },
     "execution_count": 4,
     "metadata": {},
     "output_type": "execute_result"
    }
   ],
   "source": [
    "player_guess()"
   ]
  },
  {
   "cell_type": "code",
   "execution_count": 2,
   "metadata": {},
   "outputs": [
    {
     "name": "stdout",
     "output_type": "stream",
     "text": [
      "Hello Name jupyter\n"
     ]
    }
   ],
   "source": [
    "def myfunc(name):\n",
    "    print(\"Hello Name \" +name)\n",
    "    \n",
    "myfunc(\"jupyter\")"
   ]
  },
  {
   "cell_type": "code",
   "execution_count": 10,
   "metadata": {},
   "outputs": [],
   "source": [
    "def myfunc(selection):\n",
    "    if selection == True :\n",
    "        print(\"Hello\")\n",
    "    elif selection == False :\n",
    "        print (\"Good bye\")\n",
    "    else :\n",
    "        pass"
   ]
  },
  {
   "cell_type": "code",
   "execution_count": 11,
   "metadata": {},
   "outputs": [
    {
     "name": "stdout",
     "output_type": "stream",
     "text": [
      "Hello\n"
     ]
    }
   ],
   "source": [
    "myfunc(True)"
   ]
  },
  {
   "cell_type": "code",
   "execution_count": 15,
   "metadata": {},
   "outputs": [
    {
     "name": "stdout",
     "output_type": "stream",
     "text": [
      "3\n",
      "[]\n",
      "5\n",
      "[]\n",
      "6\n",
      "[6]\n",
      "70\n",
      "[6, 70]\n"
     ]
    }
   ],
   "source": [
    "def myfunc(*args):\n",
    "    list1=[]\n",
    "    for i in args:\n",
    "        print(i)\n",
    "        if i % 2 == 0:\n",
    "            list1.append(i)\n",
    "        print(list1)\n",
    "        \n",
    "myfunc(3, 5, 6 , 70)\n"
   ]
  },
  {
   "cell_type": "code",
   "execution_count": 11,
   "metadata": {},
   "outputs": [
    {
     "ename": "TypeError",
     "evalue": "string indices must be integers",
     "output_type": "error",
     "traceback": [
      "\u001b[1;31m---------------------------------------------------------------------------\u001b[0m",
      "\u001b[1;31mTypeError\u001b[0m                                 Traceback (most recent call last)",
      "\u001b[1;32m<ipython-input-11-c63176eb4dc6>\u001b[0m in \u001b[0;36m<module>\u001b[1;34m\u001b[0m\n\u001b[0;32m     15\u001b[0m \u001b[1;33m\u001b[0m\u001b[0m\n\u001b[0;32m     16\u001b[0m \u001b[1;33m\u001b[0m\u001b[0m\n\u001b[1;32m---> 17\u001b[1;33m \u001b[0mmyfunc\u001b[0m\u001b[1;33m(\u001b[0m\u001b[1;34m\"Hello\"\u001b[0m\u001b[1;33m)\u001b[0m\u001b[1;33m\u001b[0m\u001b[1;33m\u001b[0m\u001b[0m\n\u001b[0m\u001b[0;32m     18\u001b[0m \u001b[1;33m\u001b[0m\u001b[0m\n",
      "\u001b[1;32m<ipython-input-11-c63176eb4dc6>\u001b[0m in \u001b[0;36mmyfunc\u001b[1;34m(mystring)\u001b[0m\n\u001b[0;32m      5\u001b[0m         \u001b[1;31m#print(i)\u001b[0m\u001b[1;33m\u001b[0m\u001b[1;33m\u001b[0m\u001b[1;33m\u001b[0m\u001b[0m\n\u001b[0;32m      6\u001b[0m \u001b[1;33m\u001b[0m\u001b[0m\n\u001b[1;32m----> 7\u001b[1;33m         \u001b[0mprint\u001b[0m\u001b[1;33m(\u001b[0m\u001b[1;34m\"Hello\"\u001b[0m \u001b[1;33m+\u001b[0m\u001b[0mmystring\u001b[0m\u001b[1;33m[\u001b[0m\u001b[0mi\u001b[0m\u001b[1;33m]\u001b[0m\u001b[1;33m)\u001b[0m\u001b[1;33m\u001b[0m\u001b[1;33m\u001b[0m\u001b[0m\n\u001b[0m\u001b[0;32m      8\u001b[0m \u001b[1;33m\u001b[0m\u001b[0m\n\u001b[0;32m      9\u001b[0m         \u001b[1;31m#if i%2 == 0 :\u001b[0m\u001b[1;33m\u001b[0m\u001b[1;33m\u001b[0m\u001b[1;33m\u001b[0m\u001b[0m\n",
      "\u001b[1;31mTypeError\u001b[0m: string indices must be integers"
     ]
    }
   ],
   "source": [
    "def myfunc(mystring):\n",
    "    strnew = \"\"\n",
    "    for i in mystring:\n",
    "        \n",
    "        #print(i)\n",
    "        \n",
    "        print(\"Hello\" +mystring[i])\n",
    "                \n",
    "        #if i%2 == 0 :\n",
    "        #    strnew = ntrnew + toupper( mystring[i])\n",
    "        \n",
    "        #else :\n",
    "        #   strnew = strnew + mystring[i]\n",
    "            \n",
    "            \n",
    "    \n",
    "myfunc(\"Hello\")\n",
    "    "
   ]
  },
  {
   "cell_type": "code",
   "execution_count": 10,
   "metadata": {},
   "outputs": [
    {
     "data": {
      "text/plain": [
       "False"
      ]
     },
     "execution_count": 10,
     "metadata": {},
     "output_type": "execute_result"
    }
   ],
   "source": [
    "def even_checker(number):\n",
    "    if int(number)%2 > 0:\n",
    "        return (True,int(number)%2)\n",
    "    else:\n",
    "        return False\n",
    "    \n",
    "even_checker(500)"
   ]
  },
  {
   "cell_type": "code",
   "execution_count": 3,
   "metadata": {},
   "outputs": [
    {
     "data": {
      "text/plain": [
       "0"
      ]
     },
     "execution_count": 3,
     "metadata": {},
     "output_type": "execute_result"
    }
   ],
   "source": [
    "2%2"
   ]
  },
  {
   "cell_type": "code",
   "execution_count": 2,
   "metadata": {},
   "outputs": [],
   "source": [
    "def even_check_list(num_list):\n",
    "    even_list=[]\n",
    "    for num in num_list:\n",
    "        if int(num)%2 == 0:\n",
    "            even_list.append"
   ]
  },
  {
   "cell_type": "code",
   "execution_count": null,
   "metadata": {},
   "outputs": [],
   "source": []
  },
  {
   "cell_type": "code",
   "execution_count": 21,
   "metadata": {},
   "outputs": [],
   "source": [
    "names = ['ASHFAQ','TAHANI','NASHA']\n",
    "\n",
    "def splicer(inputstring):\n",
    "    #strlength=len(inputstring)\n",
    "    if len(inputstring)%2 == 0 :\n",
    "        #print('EVEN')\n",
    "        return 'EVEN'\n",
    "    else:\n",
    "        return inputstring[0]"
   ]
  },
  {
   "cell_type": "code",
   "execution_count": 22,
   "metadata": {},
   "outputs": [
    {
     "data": {
      "text/plain": [
       "['EVEN', 'EVEN', 'N']"
      ]
     },
     "execution_count": 22,
     "metadata": {},
     "output_type": "execute_result"
    }
   ],
   "source": [
    "list(map(splicer , names))"
   ]
  },
  {
   "cell_type": "code",
   "execution_count": 7,
   "metadata": {},
   "outputs": [
    {
     "data": {
      "text/plain": [
       "9"
      ]
     },
     "execution_count": 7,
     "metadata": {},
     "output_type": "execute_result"
    }
   ],
   "source": [
    "mylist = [1,2,3,4,5,6]\n",
    "\n",
    "def squire_root(nums):\n",
    "    return int(nums) ** 2\n",
    "\n",
    "squire_root(3)"
   ]
  },
  {
   "cell_type": "code",
   "execution_count": 1,
   "metadata": {},
   "outputs": [
    {
     "ename": "SyntaxError",
     "evalue": "invalid syntax (<ipython-input-1-c15db0e60ffe>, line 1)",
     "output_type": "error",
     "traceback": [
      "\u001b[1;36m  File \u001b[1;32m\"<ipython-input-1-c15db0e60ffe>\"\u001b[1;36m, line \u001b[1;32m1\u001b[0m\n\u001b[1;33m    squireroot = lambda : nums int(nums) ** 2\u001b[0m\n\u001b[1;37m                                 ^\u001b[0m\n\u001b[1;31mSyntaxError\u001b[0m\u001b[1;31m:\u001b[0m invalid syntax\n"
     ]
    }
   ],
   "source": [
    "squireroot = lambda : nums int(nums) ** 2 "
   ]
  },
  {
   "cell_type": "code",
   "execution_count": 59,
   "metadata": {},
   "outputs": [
    {
     "name": "stdout",
     "output_type": "stream",
     "text": [
      "Pleaes input a number 0 1 2 2\n",
      "!!!!!!!!!You have selected!! 2\n",
      "you have won\n",
      "position of zero is the list ['', '', '0']\n"
     ]
    }
   ],
   "source": [
    "mylist = ['','','0']\n",
    "\n",
    "#Shuffle list\n",
    "from random import shuffle\n",
    "\n",
    "def shuffle_list(inputlist):\n",
    "    shuffle(inputlist)\n",
    "    return inputlist\n",
    "\n",
    "###########  User Guess\n",
    "def user_guess():\n",
    "    \n",
    "    guess =\"\"\n",
    "    while guess not in ['0','1','2']:\n",
    "        #print(\"Please select the correct choice\")\n",
    "        guess = input(\"Pleaes input a number 0 1 2 \")\n",
    "        print(f\"!!!!!!!!!You have selected!! {guess}\")\n",
    "    return int(guess)\n",
    "\n",
    "###########  Check Guess\n",
    "def check_guess(inputlist, userguess):\n",
    "    #print(f\"position of 0 in the list is {inputlist[userguess]}\")\n",
    "    if inputlist[userguess] == '0':\n",
    "        print(\"you have won\")\n",
    "        print(f\"position of zero is the list {inputlist}\")\n",
    "    else:\n",
    "        print(\"Wrong guess\")\n",
    "        print(f\"position of zero in the list is {inputlist}\")\n",
    "#----------------\n",
    "########### \n",
    "shuffle_list(mylist)\n",
    "guess = user_guess()\n",
    "check_guess(mylist,guess)\n",
    "\n"
   ]
  },
  {
   "cell_type": "code",
   "execution_count": 15,
   "metadata": {},
   "outputs": [],
   "source": []
  },
  {
   "cell_type": "code",
   "execution_count": null,
   "metadata": {},
   "outputs": [],
   "source": []
  }
 ],
 "metadata": {
  "kernelspec": {
   "display_name": "Python 3",
   "language": "python",
   "name": "python3"
  },
  "language_info": {
   "codemirror_mode": {
    "name": "ipython",
    "version": 3
   },
   "file_extension": ".py",
   "mimetype": "text/x-python",
   "name": "python",
   "nbconvert_exporter": "python",
   "pygments_lexer": "ipython3",
   "version": "3.7.6"
  }
 },
 "nbformat": 4,
 "nbformat_minor": 4
}
